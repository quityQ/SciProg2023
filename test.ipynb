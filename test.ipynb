{
 "cells": [
  {
   "cell_type": "code",
   "execution_count": 148,
   "metadata": {},
   "outputs": [],
   "source": [
    "import tmdbsimple as tmdb\n",
    "import pandas as pd\n",
    "import numpy as np\n",
    "import matplotlib.pyplot as plt\n",
    "\n",
    "\n",
    "tmdb.API_KEY = \"60dde32875c0d3c5679496aba9fb3465\"\n",
    "tmdb.REQUESTS_TIMEOUT = 10\n"
   ]
  },
  {
   "cell_type": "code",
   "execution_count": 149,
   "metadata": {},
   "outputs": [
    {
     "data": {
      "text/html": [
       "<div>\n",
       "<style scoped>\n",
       "    .dataframe tbody tr th:only-of-type {\n",
       "        vertical-align: middle;\n",
       "    }\n",
       "\n",
       "    .dataframe tbody tr th {\n",
       "        vertical-align: top;\n",
       "    }\n",
       "\n",
       "    .dataframe thead th {\n",
       "        text-align: right;\n",
       "    }\n",
       "</style>\n",
       "<table border=\"1\" class=\"dataframe\">\n",
       "  <thead>\n",
       "    <tr style=\"text-align: right;\">\n",
       "      <th></th>\n",
       "      <th>Title</th>\n",
       "      <th>Budget</th>\n",
       "      <th>Rating</th>\n",
       "    </tr>\n",
       "  </thead>\n",
       "  <tbody>\n",
       "    <tr>\n",
       "      <th>0</th>\n",
       "      <td>Blondie</td>\n",
       "      <td>0.0</td>\n",
       "      <td>6.750</td>\n",
       "    </tr>\n",
       "    <tr>\n",
       "      <th>0</th>\n",
       "      <td>Peter Voss, Thief of Millions</td>\n",
       "      <td>0.0</td>\n",
       "      <td>0.000</td>\n",
       "    </tr>\n",
       "    <tr>\n",
       "      <th>0</th>\n",
       "      <td>Love at Twenty</td>\n",
       "      <td>0.0</td>\n",
       "      <td>6.700</td>\n",
       "    </tr>\n",
       "    <tr>\n",
       "      <th>0</th>\n",
       "      <td>New World Disorder 9: Never Enough</td>\n",
       "      <td>0.0</td>\n",
       "      <td>6.000</td>\n",
       "    </tr>\n",
       "    <tr>\n",
       "      <th>0</th>\n",
       "      <td>Sesame Street: Elmo Loves You!</td>\n",
       "      <td>0.0</td>\n",
       "      <td>0.000</td>\n",
       "    </tr>\n",
       "    <tr>\n",
       "      <th>0</th>\n",
       "      <td>Ariel</td>\n",
       "      <td>0.0</td>\n",
       "      <td>7.100</td>\n",
       "    </tr>\n",
       "    <tr>\n",
       "      <th>0</th>\n",
       "      <td>Shadows in Paradise</td>\n",
       "      <td>0.0</td>\n",
       "      <td>7.183</td>\n",
       "    </tr>\n",
       "    <tr>\n",
       "      <th>0</th>\n",
       "      <td>Four Rooms</td>\n",
       "      <td>4000000.0</td>\n",
       "      <td>5.757</td>\n",
       "    </tr>\n",
       "    <tr>\n",
       "      <th>0</th>\n",
       "      <td>Judgment Night</td>\n",
       "      <td>21000000.0</td>\n",
       "      <td>6.558</td>\n",
       "    </tr>\n",
       "    <tr>\n",
       "      <th>0</th>\n",
       "      <td>Life in Loops (A Megacities RMX)</td>\n",
       "      <td>42000.0</td>\n",
       "      <td>7.708</td>\n",
       "    </tr>\n",
       "  </tbody>\n",
       "</table>\n",
       "</div>"
      ],
      "text/plain": [
       "                                Title      Budget  Rating\n",
       "0                             Blondie         0.0   6.750\n",
       "0       Peter Voss, Thief of Millions         0.0   0.000\n",
       "0                      Love at Twenty         0.0   6.700\n",
       "0  New World Disorder 9: Never Enough         0.0   6.000\n",
       "0      Sesame Street: Elmo Loves You!         0.0   0.000\n",
       "0                               Ariel         0.0   7.100\n",
       "0                 Shadows in Paradise         0.0   7.183\n",
       "0                          Four Rooms   4000000.0   5.757\n",
       "0                      Judgment Night  21000000.0   6.558\n",
       "0    Life in Loops (A Megacities RMX)     42000.0   7.708"
      ]
     },
     "execution_count": 149,
     "metadata": {},
     "output_type": "execute_result"
    }
   ],
   "source": [
    "df = pd.DataFrame(columns=['Title', 'Budget', 'Rating'])\n",
    "URL = \"http://files.tmdb.org/p/exports/movie_ids_04_01_2023.json.gz\"\n",
    "dfidlist = pd.read_json(URL, compression='gzip', lines=True)\n",
    "idlist = []\n",
    "\n",
    "for i in dfidlist['id'].head(10):\n",
    "    movie = tmdb.Movies(i)\n",
    "    response = movie.info()\n",
    "    tempdf = pd.DataFrame([[movie.title, movie.budget, movie.vote_average]], columns=[\n",
    "                          'Title', 'Budget', 'Rating'])\n",
    "    df = pd.concat([df, tempdf])\n",
    "\n",
    "df['Budget'] = df['Budget'].astype(float)\n",
    "\n",
    "\n",
    "df\n"
   ]
  },
  {
   "cell_type": "code",
   "execution_count": 150,
   "metadata": {},
   "outputs": [
    {
     "data": {
      "text/plain": [
       "[<matplotlib.lines.Line2D at 0x28aad6d6f50>]"
      ]
     },
     "execution_count": 150,
     "metadata": {},
     "output_type": "execute_result"
    },
    {
     "data": {
      "image/png": "[encoded data removed]",
      "text/plain": [
       "<Figure size 640x480 with 1 Axes>"
      ]
     },
     "metadata": {},
     "output_type": "display_data"
    }
   ],
   "source": [
    "\n",
    "x = df['Budget']\n",
    "y = df['Rating']\n",
    "\n",
    "plt.scatter(x, y)\n",
    "\n",
    "z = np.polyfit(x, y, 1)\n",
    "p = np.poly1d(z)\n",
    "\n",
    "plt.plot(x, p(x))\n"
   ]
  }
 ],
 "metadata": {
  "kernelspec": {
   "display_name": "Python 3",
   "language": "python",
   "name": "python3"
  },
  "language_info": {
   "codemirror_mode": {
    "name": "ipython",
    "version": 3
   },
   "file_extension": ".py",
   "mimetype": "text/x-python",
   "name": "python",
   "nbconvert_exporter": "python",
   "pygments_lexer": "ipython3",
   "version": "3.10.9"
  },
  "orig_nbformat": 4
 },
 "nbformat": 4,
 "nbformat_minor": 2
}
